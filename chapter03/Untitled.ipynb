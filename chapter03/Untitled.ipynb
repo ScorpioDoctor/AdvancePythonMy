{
 "cells": [
  {
   "cell_type": "code",
   "execution_count": 11,
   "metadata": {},
   "outputs": [
    {
     "name": "stdout",
     "output_type": "stream",
     "text": [
      "王八蛋:猪八戒:孙悟空\n"
     ]
    },
    {
     "data": {
      "text/plain": [
       "王八蛋<>猪八戒<>孙悟空"
      ]
     },
     "execution_count": 11,
     "metadata": {},
     "output_type": "execute_result"
    }
   ],
   "source": [
    "class School(object):\n",
    "    def __init__(self, teacher_list):\n",
    "        self.teacher_list = teacher_list\n",
    "\n",
    "    def __str__(self):\n",
    "        return ':'.join(self.teacher_list)\n",
    "    def __repr__(self):\n",
    "        return '<>'.join(self.teacher_list)\n",
    "    \n",
    "sch = School([\"王八蛋\",\"猪八戒\",\"孙悟空\"])\n",
    "print(sch.__str__())\n",
    "sch"
   ]
  },
  {
   "cell_type": "code",
   "execution_count": 19,
   "metadata": {},
   "outputs": [
    {
     "name": "stdout",
     "output_type": "stream",
     "text": [
      "1.234\n"
     ]
    }
   ],
   "source": [
    "class MyNumber(object):\n",
    "    def __init__(self,number):\n",
    "        self.number = number\n",
    "    def __str__(self):\n",
    "        return str(self.number)\n",
    "    def __abs__(self):\n",
    "        return abs(self.number)\n",
    "    def __neg__(self):\n",
    "        return -self.number\n",
    "mynum = MyNumber(-1.234)\n",
    "abs_mynum = abs(mynum)\n",
    "neg_mynum = -mynum\n",
    "print(neg_mynum)"
   ]
  },
  {
   "cell_type": "code",
   "execution_count": 30,
   "metadata": {},
   "outputs": [
    {
     "name": "stdout",
     "output_type": "stream",
     "text": [
      "pt1:  x:2--y:4.5\n",
      "pt2:  x:4--y:-3.5\n",
      "pt1:  x:6--y:1.0\n"
     ]
    }
   ],
   "source": [
    "class MyPoint(object):\n",
    "    def __init__(self,x,y):\n",
    "        self.x = x\n",
    "        self.y = y\n",
    "    def __str__(self):\n",
    "        return \"x:{x}--y:{y}\".format(x=self.x,y=self.y)\n",
    "#     def __add__(self,pt):\n",
    "#         return MyPoint(self.x+pt.x,self.y+pt.y)\n",
    "    def __add__(self,pt):\n",
    "        self.x += pt.x\n",
    "        self.y += pt.y\n",
    "        return self\n",
    "    \n",
    "point1 = MyPoint(2,4.5)\n",
    "print(\"pt1: \", point1)\n",
    "point2 = MyPoint(4,-3.5)\n",
    "print(\"pt2: \", point2)\n",
    "# pt3 = point1+point2\n",
    "# print(pt3)\n",
    "# print(id(pt3),\"----\",id(point1))\n",
    "point1 += point2\n",
    "print(\"pt1: \", point1)"
   ]
  },
  {
   "cell_type": "code",
   "execution_count": null,
   "metadata": {},
   "outputs": [],
   "source": []
  }
 ],
 "metadata": {
  "kernelspec": {
   "display_name": "Python 3",
   "language": "python",
   "name": "python3"
  },
  "language_info": {
   "codemirror_mode": {
    "name": "ipython",
    "version": 3
   },
   "file_extension": ".py",
   "mimetype": "text/x-python",
   "name": "python",
   "nbconvert_exporter": "python",
   "pygments_lexer": "ipython3",
   "version": "3.6.4"
  }
 },
 "nbformat": 4,
 "nbformat_minor": 2
}
